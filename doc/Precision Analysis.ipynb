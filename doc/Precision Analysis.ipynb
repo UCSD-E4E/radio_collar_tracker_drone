{
 "cells": [
  {
   "cell_type": "markdown",
   "metadata": {},
   "source": [
    "This notebook presents the techniques of displaying the precision of the Radio Telemetry Tracker system."
   ]
  },
  {
   "cell_type": "code",
   "execution_count": 60,
   "metadata": {},
   "outputs": [],
   "source": [
    "import numpy as np\n",
    "import matplotlib.pyplot as plt; plt.ion()\n",
    "from scipy.optimize import least_squares"
   ]
  },
  {
   "cell_type": "markdown",
   "metadata": {},
   "source": [
    "# Model Estimation\n",
    "To determine the location of the radio transmitter, we need to find a relationship between the measurement location and the radio amplitude measurement.  We use the radio signal path loss model: $L = 10nlog_{10}(d)$.\n",
    "\n",
    "We can then rewrite this in terms of receive and transmit power, $R$ and $P$: $R = P - 10nlog_{10}(d) + C$, where $C$ represents receive losses not due to path loss.\n",
    "\n",
    "In theory, $n$ is 2 for path loss in a vacuum, but in practice, we see $n$ range from $2$ to $6$.\n",
    "\n",
    "However, we cannot in principle differentiate between P and C, as they are summed together, so we can simply combine them into a single parameter $k$: $R = k - 10nlog_{10}(d)$"
   ]
  },
  {
   "cell_type": "code",
   "execution_count": 61,
   "metadata": {},
   "outputs": [],
   "source": [
    "def receivePowerModel(d, k, n):\n",
    "    return k - 10 * n * np.log10(d)"
   ]
  },
  {
   "cell_type": "markdown",
   "metadata": {},
   "source": [
    "When we receive data, we can extract the following information: drone location in x, y, and z, and transmitter receive power.  We can then put this information into a matrix $D = \\begin{bmatrix}x_d & y_d & z_d & R\\end{bmatrix}$, where $x_d$ is the column vector of drone x coordinates, $y_d$ is the column vector of drone y coordinates, $z_d$ is the column vector of drone z coordinates, and $R$ is the column vector of receive powers.  We generate a simulated dataset below:"
   ]
  },
  {
   "cell_type": "code",
   "execution_count": 62,
   "metadata": {},
   "outputs": [],
   "source": [
    "vx = np.array([[5, 1, 0],\n",
    "               [-1, 5, 0],\n",
    "               [-5, -1, 0],\n",
    "               [1, -5, 0]])\n",
    "tx = (477954, 3638577, 11, 'S')\n",
    "txp = 100\n",
    "n = 4\n",
    "C = 1\n",
    "d = 1000\n",
    "tx_loc = np.array([tx[0], tx[1], 0])\n",
    "dx_loc = np.array([tx[0] - 100, tx[1], 30])\n",
    "s_per_leg = 30\n",
    "c_loc = dx_loc\n",
    "D_p = []\n",
    "for leg in range(4):\n",
    "    for s in range(s_per_leg):\n",
    "        c_loc += vx[leg,:]\n",
    "        dist = np.linalg.norm(tx_loc - c_loc)\n",
    "        R = receivePowerModel(dist, txp - C, n)\n",
    "        D_p.append([c_loc[0], c_loc[1], c_loc[2], R])\n",
    "simulated_D = np.array(D_p)"
   ]
  },
  {
   "cell_type": "markdown",
   "metadata": {},
   "source": [
    "To localize the transmitter, we simply take the measurements in $D$ and fit them to the model in `receivePowerModel`"
   ]
  },
  {
   "cell_type": "code",
   "execution_count": 68,
   "metadata": {},
   "outputs": [
    {
     "name": "stdout",
     "output_type": "stream",
     "text": [
      "[4.77954000e+05 3.63857700e+06 9.89999992e+01 3.99999996e+00]\n",
      "Lateral error: 0.000001\n",
      "k error: 0.000001\n",
      "n error: 0.000000\n"
     ]
    }
   ],
   "source": [
    "def residuals(params, data):\n",
    "    tx = params[0]\n",
    "    ty = params[1]\n",
    "    t_loc = np.array([tx, ty, 0])\n",
    "    \n",
    "    k = params[2]\n",
    "    n = params[3]\n",
    "    \n",
    "    R = data[:,3]\n",
    "    d_loc = data[:,0:3]\n",
    "    \n",
    "    residuals = np.zeros(len(R))\n",
    "    for i in range(len(R)):\n",
    "        residuals[i] = R[i] - receivePowerModel(np.linalg.norm(t_loc - d_loc[i,:]), k, n)\n",
    "    return residuals\n",
    "\n",
    "initialGuess = np.array([np.mean(simulated_D[:,0]), np.mean(simulated_D[:,1]),\n",
    "                         np.max(simulated_D[:,3]), 4])\n",
    "results = least_squares(residuals, initialGuess, kwargs={'data':simulated_D})\n",
    "print(results.x)\n",
    "print(\"Lateral error: %f\" % np.linalg.norm(tx_loc - np.array([results.x[0], results.x[1], 0])))\n",
    "print(\"k error: %f\" % (txp - C - results.x[2]))\n",
    "print(\"n error: %f\" % (n - results.x[3]))"
   ]
  },
  {
   "cell_type": "markdown",
   "metadata": {},
   "source": [
    "As shown above, the estimated result is nearly identical to the simulated parameters, which should be the case, as the only source of noise here is from quantization error.\n",
    "\n",
    "In order to accurately simulate the data from the drone, we need to add some error to the measurements.  In this case, we will add Gaussian noise to each measurement.  For the $x$ and $y$ coordinates, we will add Gaussian noise with $\\mu = 0$ and $\\sigma^2 = 3$.  For the $z$ coordinate, we will add Gaussian noise with $\\mu = 0$ and $\\sigma^2 = 0.5$.  For the $R$ measurement, we will add Gaussian noise with $\\mu = 0$ and $\\sigma^2 = 5$."
   ]
  },
  {
   "cell_type": "code",
   "execution_count": 67,
   "metadata": {},
   "outputs": [
    {
     "name": "stdout",
     "output_type": "stream",
     "text": [
      "[[4.77859325e+05 3.63857800e+06 3.02344649e+01 2.16459911e+01]\n",
      " [4.77863334e+05 3.63857832e+06 3.08992596e+01 2.10609051e+01]\n",
      " [4.77868570e+05 3.63857970e+06 3.00403799e+01 2.51313227e+01]\n",
      " [4.77874206e+05 3.63857989e+06 2.91945001e+01 1.61325356e+01]\n",
      " [4.77879148e+05 3.63858156e+06 3.13579579e+01 1.83828436e+01]]\n"
     ]
    }
   ],
   "source": [
    "c_loc = dx_loc\n",
    "D_p = []\n",
    "s_xy = np.sqrt(3)\n",
    "s_z = np.sqrt(0.5)\n",
    "s_R = np.sqrt(5)\n",
    "for leg in range(4):\n",
    "    for s in range(s_per_leg):\n",
    "        c_loc += vx[leg,:]\n",
    "        dist = np.linalg.norm(tx_loc - c_loc)\n",
    "        R = receivePowerModel(dist, txp - C, n)\n",
    "        D_p.append([c_loc[0] + np.random.normal(0,s_xy),\n",
    "                    c_loc[1] + np.random.normal(0,s_xy),\n",
    "                    c_loc[2] + np.random.normal(0,s_z),\n",
    "                    R + np.random.normal(0,s_R)])\n",
    "simulated_D_error = np.array(D_p)\n",
    "print(simulated_D_error[0:5,:])"
   ]
  },
  {
   "cell_type": "code",
   "execution_count": 65,
   "metadata": {},
   "outputs": [
    {
     "name": "stdout",
     "output_type": "stream",
     "text": [
      "[4.77955595e+05 3.63857199e+06 1.02789290e+02 4.15622580e+00]\n",
      "Lateral error: 5.257425\n",
      "k error: -3.789290\n",
      "n error: -0.156226\n"
     ]
    }
   ],
   "source": [
    "initialGuess = np.array([np.mean(simulated_D_error[:,0]), np.mean(simulated_D_error[:,1]),\n",
    "                         np.max(simulated_D_error[:,3]), 4])\n",
    "results = least_squares(residuals, initialGuess, kwargs={'data':simulated_D_error})\n",
    "print(results.x)\n",
    "print(\"Lateral error: %f\" % np.linalg.norm(tx_loc - np.array([results.x[0], results.x[1], 0])))\n",
    "print(\"k error: %f\" % (txp - C - results.x[2]))\n",
    "print(\"n error: %f\" % (n - results.x[3]))"
   ]
  },
  {
   "cell_type": "markdown",
   "metadata": {},
   "source": [
    "# Precision Visualization\n",
    "\n",
    "In order to provide a metric of how certain our estimate is, we need to provide a way to visualize the precision of our estimate."
   ]
  },
  {
   "cell_type": "code",
   "execution_count": null,
   "metadata": {},
   "outputs": [],
   "source": []
  }
 ],
 "metadata": {
  "kernelspec": {
   "display_name": "Python 3",
   "language": "python",
   "name": "python3"
  },
  "language_info": {
   "codemirror_mode": {
    "name": "ipython",
    "version": 3
   },
   "file_extension": ".py",
   "mimetype": "text/x-python",
   "name": "python",
   "nbconvert_exporter": "python",
   "pygments_lexer": "ipython3",
   "version": "3.5.2"
  }
 },
 "nbformat": 4,
 "nbformat_minor": 2
}
